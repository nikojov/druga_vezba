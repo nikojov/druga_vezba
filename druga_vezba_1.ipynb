{
 "cells": [
  {
   "cell_type": "code",
   "execution_count": 17,
   "metadata": {},
   "outputs": [
    {
     "name": "stdout",
     "output_type": "stream",
     "text": [
      "Total reads: 2921629\n",
      "Unmapped reads: 17765\n",
      "Number of reads with mapping quality 0: 126628\n",
      "Average mapping quality for all reads: 55.91379158681681\n",
      "Average mapping quality for all reads, with 0 map quality reads filtered: 58.446975510921106\n"
     ]
    }
   ],
   "source": [
    " def analyze_bam_file( bam_file):\n",
    "    import pysam\n",
    "    unmapped_reads=0\n",
    "    total_reads=0\n",
    "    num_mapq_zero=0\n",
    "    total_mapq=0\n",
    "    align_file= pysam.AlignmentFile(bam_file)\n",
    "    for read in align_file.fetch(until_eof=True):\n",
    "        total_reads+=1\n",
    "        if read.is_unmapped:\n",
    "            unmapped_reads+=1\n",
    "        if read.mapping_quality == 0:\n",
    "            num_mapq_zero+=1\n",
    "        else:\n",
    "            total_mapq+=read.mapping_quality\n",
    "    print(\"Total reads: \"+ str(total_reads))\n",
    "    print(\"Unmapped reads: \" + str(unmapped_reads))\n",
    "    print(\"Number of reads with mapping quality 0: \" + str(num_mapq_zero))\n",
    "    avg_mapq=total_mapq/total_reads\n",
    "    avg_mapq_filt=0\n",
    "    num_mapq_nozero= total_reads-num_mapq_zero\n",
    "    if num_mapq_nozero == 0:\n",
    "        avg_mapq_filt= avg_mapq\n",
    "    else:\n",
    "        avg_mapq_filt= total_mapq/num_mapq_nozero\n",
    "    print(\"Average mapping quality for all reads: \" + str(avg_mapq))\n",
    "    print(\"Average mapping quality for all reads, with 0 map quality reads filtered: \" + str(avg_mapq_filt))\n",
    "    \n",
    "analyze_bam_file('/sbgenomics/project-files/merged-tumor.bam')\n",
    "    "
   ]
  },
  {
   "cell_type": "code",
   "execution_count": null,
   "metadata": {},
   "outputs": [],
   "source": []
  }
 ],
 "metadata": {
  "kernelspec": {
   "display_name": "Python 3",
   "language": "python",
   "name": "python3"
  },
  "language_info": {
   "codemirror_mode": {
    "name": "ipython",
    "version": 3
   },
   "file_extension": ".py",
   "mimetype": "text/x-python",
   "name": "python",
   "nbconvert_exporter": "python",
   "pygments_lexer": "ipython3",
   "version": "3.6.3"
  }
 },
 "nbformat": 4,
 "nbformat_minor": 2
}
